{
 "cells": [
  {
   "cell_type": "code",
   "execution_count": 444,
   "id": "0a075b22",
   "metadata": {},
   "outputs": [],
   "source": [
    "# Import typical packages\n",
    "import pandas as pd\n",
    "import numpy as np\n",
    "import matplotlib.pyplot as plt\n",
    "from sklearn.model_selection import train_test_split\n",
    "from sklearn.metrics import r2_score"
   ]
  },
  {
   "cell_type": "code",
   "execution_count": 445,
   "id": "d0c4f65c",
   "metadata": {},
   "outputs": [],
   "source": [
    "# Split data for each phase of model\n",
    "def train_val_test_split(X, y, train_size):\n",
    "    \"\"\"Split dataset into data splits.\"\"\"\n",
    "    X_train, X_, y_train, y_ = train_test_split(X, y, train_size=TRAIN_SIZE)\n",
    "    X_val, X_test, y_val, y_test = train_test_split(X_, y_, train_size=0.5)\n",
    "    return X_train, X_val, X_test, y_train, y_val, y_test"
   ]
  },
  {
   "cell_type": "code",
   "execution_count": 446,
   "id": "b66aa93f",
   "metadata": {},
   "outputs": [],
   "source": [
    "# Standardize data to make sure mean is zero and variance equal to one\n",
    "def standardize_data(data):\n",
    "    mean = np.mean(data)\n",
    "    std = np.std(data)\n",
    "    return (data - mean)/std"
   ]
  },
  {
   "cell_type": "code",
   "execution_count": 447,
   "id": "503d442b",
   "metadata": {},
   "outputs": [],
   "source": [
    "# Calculate Mean Squared Error\n",
    "def MeanSquaredEr(y, y_hat):\n",
    "    n = y_hat.shape[0]\n",
    "    MSE = sum((y - y_hat)**2)/n\n",
    "    return MSE"
   ]
  },
  {
   "cell_type": "code",
   "execution_count": 448,
   "id": "4bf56b82",
   "metadata": {},
   "outputs": [],
   "source": [
    "# Calculate output y from bias\n",
    "def calc_y(W, x):\n",
    "    y = sum(np.array([W*np.power(x, exp) for exp, W in enumerate(W)]))\n",
    "    return y"
   ]
  },
  {
   "cell_type": "code",
   "execution_count": 449,
   "id": "5ce956b6",
   "metadata": {},
   "outputs": [],
   "source": [
    "# Base expression of all the derivatives of the base\n",
    "def base(x, y, y_hat):\n",
    "    n = x.shape[0]\n",
    "    return (-2/n)*(y-y_hat)"
   ]
  },
  {
   "cell_type": "code",
   "execution_count": 450,
   "id": "5b1c812d",
   "metadata": {},
   "outputs": [],
   "source": [
    "# Calculate the gradient and determine weights and bias\n",
    "def StochGrad(x, y, W, learning_rate, epoch):\n",
    "    for it in range(epoch):\n",
    "        y_hat = calc_y(W,x)\n",
    "        gradient = np.zeros(0)\n",
    "        for exp, w in enumerate(W):\n",
    "            gradient = np.append(gradient,sum(np.power(x,exp)*base(x,y,y_hat)))\n",
    "        W -= 0.01*gradient\n",
    "    return W, y_hat"
   ]
  },
  {
   "cell_type": "code",
   "execution_count": 495,
   "id": "257f833c",
   "metadata": {},
   "outputs": [],
   "source": [
    "# Read the CSVs into pandas\n",
    "smoking_df = pd.read_csv(\"C:\\\\Users\\\\Alex\\\\Documents\\\\GitHub\\\\Data-Analyst-Portfolio\\\\Smoking Rate V Life Expectancy\\\\Data\\\\smoking_rates.csv\")\n",
    "smoking_df = smoking_df.sort_values(\"Country\",ascending=True)\n",
    "\n",
    "life_expectancy_df = pd.read_csv(\"C:\\\\Users\\\\Alex\\\\Documents\\\\GitHub\\\\Data-Analyst-Portfolio\\\\Smoking Rate V Life Expectancy\\\\Data\\\\life_expectancy.csv\")\n",
    "life_expectancy_df = life_expectancy_df.sort_values(\"Country\", ascending= True)"
   ]
  },
  {
   "cell_type": "code",
   "execution_count": 496,
   "id": "b88650f5",
   "metadata": {},
   "outputs": [],
   "source": [
    "# Merge and drop extraneous columns\n",
    "complete_df = smoking_df.merge(life_expectancy_df, how=\"inner\", on=\"Country\")\n",
    "complete_df = complete_df.drop(columns= \"Unnamed: 0\")"
   ]
  },
  {
   "cell_type": "code",
   "execution_count": 497,
   "id": "0d952cfc",
   "metadata": {},
   "outputs": [
    {
     "data": {
      "text/html": [
       "<div>\n",
       "<style scoped>\n",
       "    .dataframe tbody tr th:only-of-type {\n",
       "        vertical-align: middle;\n",
       "    }\n",
       "\n",
       "    .dataframe tbody tr th {\n",
       "        vertical-align: top;\n",
       "    }\n",
       "\n",
       "    .dataframe thead th {\n",
       "        text-align: right;\n",
       "    }\n",
       "</style>\n",
       "<table border=\"1\" class=\"dataframe\">\n",
       "  <thead>\n",
       "    <tr style=\"text-align: right;\">\n",
       "      <th></th>\n",
       "      <th>Country</th>\n",
       "      <th>Subregion</th>\n",
       "      <th>Female Smoking Rate</th>\n",
       "      <th>Male Smoking Rate</th>\n",
       "      <th>Total Smoking Rate</th>\n",
       "      <th>Life Expectancy (Years)</th>\n",
       "    </tr>\n",
       "  </thead>\n",
       "  <tbody>\n",
       "    <tr>\n",
       "      <th>0</th>\n",
       "      <td>Albania</td>\n",
       "      <td>Southern Europe</td>\n",
       "      <td>7.9</td>\n",
       "      <td>50.5</td>\n",
       "      <td>29.2</td>\n",
       "      <td>78.63</td>\n",
       "    </tr>\n",
       "    <tr>\n",
       "      <th>1</th>\n",
       "      <td>Algeria</td>\n",
       "      <td>Northern Africa</td>\n",
       "      <td>1.4</td>\n",
       "      <td>36.3</td>\n",
       "      <td>18.8</td>\n",
       "      <td>76.06</td>\n",
       "    </tr>\n",
       "    <tr>\n",
       "      <th>2</th>\n",
       "      <td>Andorra</td>\n",
       "      <td>Southern Europe</td>\n",
       "      <td>29.5</td>\n",
       "      <td>38.1</td>\n",
       "      <td>33.8</td>\n",
       "      <td>82.91</td>\n",
       "    </tr>\n",
       "    <tr>\n",
       "      <th>3</th>\n",
       "      <td>Argentina</td>\n",
       "      <td>South America</td>\n",
       "      <td>33.0</td>\n",
       "      <td>15.4</td>\n",
       "      <td>28.2</td>\n",
       "      <td>78.20</td>\n",
       "    </tr>\n",
       "    <tr>\n",
       "      <th>4</th>\n",
       "      <td>Armenia</td>\n",
       "      <td>Western Asia</td>\n",
       "      <td>1.6</td>\n",
       "      <td>51.8</td>\n",
       "      <td>26.7</td>\n",
       "      <td>75.00</td>\n",
       "    </tr>\n",
       "    <tr>\n",
       "      <th>...</th>\n",
       "      <td>...</td>\n",
       "      <td>...</td>\n",
       "      <td>...</td>\n",
       "      <td>...</td>\n",
       "      <td>...</td>\n",
       "      <td>...</td>\n",
       "    </tr>\n",
       "    <tr>\n",
       "      <th>136</th>\n",
       "      <td>Uzbekistan</td>\n",
       "      <td>Central Asia</td>\n",
       "      <td>43.0</td>\n",
       "      <td>1.3</td>\n",
       "      <td>23.3</td>\n",
       "      <td>74.28</td>\n",
       "    </tr>\n",
       "    <tr>\n",
       "      <th>137</th>\n",
       "      <td>Vanuatu</td>\n",
       "      <td>Melanesia</td>\n",
       "      <td>3.3</td>\n",
       "      <td>45.0</td>\n",
       "      <td>24.1</td>\n",
       "      <td>67.15</td>\n",
       "    </tr>\n",
       "    <tr>\n",
       "      <th>138</th>\n",
       "      <td>Yemen</td>\n",
       "      <td>Western Asia</td>\n",
       "      <td>46.0</td>\n",
       "      <td>9.3</td>\n",
       "      <td>32.5</td>\n",
       "      <td>66.24</td>\n",
       "    </tr>\n",
       "    <tr>\n",
       "      <th>139</th>\n",
       "      <td>Zambia</td>\n",
       "      <td>Eastern Africa</td>\n",
       "      <td>63.0</td>\n",
       "      <td>4.4</td>\n",
       "      <td>25.0</td>\n",
       "      <td>53.74</td>\n",
       "    </tr>\n",
       "    <tr>\n",
       "      <th>140</th>\n",
       "      <td>Zimbabwe</td>\n",
       "      <td>Eastern Africa</td>\n",
       "      <td>74.0</td>\n",
       "      <td>1.3</td>\n",
       "      <td>26.5</td>\n",
       "      <td>58.95</td>\n",
       "    </tr>\n",
       "  </tbody>\n",
       "</table>\n",
       "<p>141 rows × 6 columns</p>\n",
       "</div>"
      ],
      "text/plain": [
       "        Country        Subregion  Female Smoking Rate  Male Smoking Rate  \\\n",
       "0       Albania  Southern Europe                  7.9               50.5   \n",
       "1       Algeria  Northern Africa                  1.4               36.3   \n",
       "2       Andorra  Southern Europe                 29.5               38.1   \n",
       "3     Argentina    South America                 33.0               15.4   \n",
       "4       Armenia     Western Asia                  1.6               51.8   \n",
       "..          ...              ...                  ...                ...   \n",
       "136  Uzbekistan     Central Asia                 43.0                1.3   \n",
       "137     Vanuatu        Melanesia                  3.3               45.0   \n",
       "138       Yemen     Western Asia                 46.0                9.3   \n",
       "139      Zambia   Eastern Africa                 63.0                4.4   \n",
       "140    Zimbabwe   Eastern Africa                 74.0                1.3   \n",
       "\n",
       "     Total Smoking Rate  Life Expectancy (Years)  \n",
       "0                  29.2                    78.63  \n",
       "1                  18.8                    76.06  \n",
       "2                  33.8                    82.91  \n",
       "3                  28.2                    78.20  \n",
       "4                  26.7                    75.00  \n",
       "..                  ...                      ...  \n",
       "136                23.3                    74.28  \n",
       "137                24.1                    67.15  \n",
       "138                32.5                    66.24  \n",
       "139                25.0                    53.74  \n",
       "140                26.5                    58.95  \n",
       "\n",
       "[141 rows x 6 columns]"
      ]
     },
     "execution_count": 497,
     "metadata": {},
     "output_type": "execute_result"
    }
   ],
   "source": [
    "complete_df"
   ]
  },
  {
   "cell_type": "code",
   "execution_count": 498,
   "id": "e9d93469",
   "metadata": {},
   "outputs": [
    {
     "data": {
      "text/plain": [
       "<AxesSubplot:xlabel='Total Smoking Rate', ylabel='Life Expectancy (Years)'>"
      ]
     },
     "execution_count": 498,
     "metadata": {},
     "output_type": "execute_result"
    },
    {
     "data": {
      "image/png": "[encoded data removed]",
      "text/plain": [
       "<Figure size 432x288 with 1 Axes>"
      ]
     },
     "metadata": {
      "needs_background": "light"
     },
     "output_type": "display_data"
    }
   ],
   "source": [
    "# Lets look at the relationships between each smoking rate and life expectancy\n",
    "complete_df.plot.scatter(\"Total Smoking Rate\",\"Life Expectancy (Years)\")"
   ]
  },
  {
   "cell_type": "code",
   "execution_count": 499,
   "id": "be2eedc7",
   "metadata": {},
   "outputs": [],
   "source": [
    "# Shockingly, there doesn't seem to be a strong relationship between Life Expectancy of country \n",
    "# and Total Smoking Rate of each country."
   ]
  },
  {
   "cell_type": "code",
   "execution_count": 500,
   "id": "59503851",
   "metadata": {},
   "outputs": [
    {
     "data": {
      "text/plain": [
       "<AxesSubplot:xlabel='Female Smoking Rate', ylabel='Life Expectancy (Years)'>"
      ]
     },
     "execution_count": 500,
     "metadata": {},
     "output_type": "execute_result"
    },
    {
     "data": {
      "image/png": "[encoded data removed]",
      "text/plain": [
       "<Figure size 432x288 with 1 Axes>"
      ]
     },
     "metadata": {
      "needs_background": "light"
     },
     "output_type": "display_data"
    }
   ],
   "source": [
    "complete_df.plot.scatter(\"Female Smoking Rate\",\"Life Expectancy (Years)\")"
   ]
  },
  {
   "cell_type": "code",
   "execution_count": 501,
   "id": "ff5eed21",
   "metadata": {},
   "outputs": [],
   "source": [
    "# This seems to be the same with female smoking rate."
   ]
  },
  {
   "cell_type": "code",
   "execution_count": 502,
   "id": "5e307b0a",
   "metadata": {},
   "outputs": [
    {
     "data": {
      "text/plain": [
       "<AxesSubplot:xlabel='Male Smoking Rate', ylabel='Life Expectancy (Years)'>"
      ]
     },
     "execution_count": 502,
     "metadata": {},
     "output_type": "execute_result"
    },
    {
     "data": {
      "image/png": "[encoded data removed]",
      "text/plain": [
       "<Figure size 432x288 with 1 Axes>"
      ]
     },
     "metadata": {
      "needs_background": "light"
     },
     "output_type": "display_data"
    }
   ],
   "source": [
    "complete_df.plot.scatter(\"Male Smoking Rate\",\"Life Expectancy (Years)\")"
   ]
  },
  {
   "cell_type": "code",
   "execution_count": 503,
   "id": "1960e0de",
   "metadata": {},
   "outputs": [],
   "source": [
    "# Here we see an interesting asymptotic relationship between Male Smoking Rate and a countries life expectancy. "
   ]
  },
  {
   "cell_type": "code",
   "execution_count": 504,
   "id": "6847dbbd",
   "metadata": {},
   "outputs": [
    {
     "data": {
      "text/plain": [
       "53.90070921985816"
      ]
     },
     "execution_count": 504,
     "metadata": {},
     "output_type": "execute_result"
    }
   ],
   "source": [
    "# Let's see if men make up the majority of smokers in the countries for our dataset.\n",
    "mask = complete_df[\"Male Smoking Rate\"] > complete_df[\"Female Smoking Rate\"]\n",
    "total_counter = mask.aggregate('count')\n",
    "counter = complete_df[mask]\n",
    "counter = counter[\"Male Smoking Rate\"].aggregate('count')\n",
    "per_maj_smok = (counter/total_counter)*100\n",
    "per_maj_smok"
   ]
  },
  {
   "cell_type": "code",
   "execution_count": 505,
   "id": "f61f1e2c",
   "metadata": {},
   "outputs": [
    {
     "data": {
      "text/plain": [
       "20.96578947368421"
      ]
     },
     "execution_count": 505,
     "metadata": {},
     "output_type": "execute_result"
    }
   ],
   "source": [
    "# Another interesting metric to look at is the average difference between the male and female smoking rate\n",
    "complete_df[\"Gender Difference\"] = complete_df[\"Male Smoking Rate\"] - complete_df[\"Female Smoking Rate\"]\n",
    "mask = complete_df[\"Gender Difference\"] > 0\n",
    "m_df = complete_df[mask]\n",
    "m_df[\"Gender Difference\"].mean()"
   ]
  },
  {
   "cell_type": "code",
   "execution_count": 599,
   "id": "8f2eee9d",
   "metadata": {},
   "outputs": [],
   "source": [
    "# Despite there being a majority, I don't think it's enough to describe such a clear relationship."
   ]
  },
  {
   "cell_type": "code",
   "execution_count": 600,
   "id": "0edb59c1",
   "metadata": {},
   "outputs": [],
   "source": [
    "# Let's see if we can use polynomial regression to find a curve"
   ]
  },
  {
   "cell_type": "code",
   "execution_count": 616,
   "id": "07eb8aa5",
   "metadata": {},
   "outputs": [],
   "source": [
    "# Because I can only identify two potential inflection points on this curve\n",
    "# I believe it can be modeled using a 3rd degree polynomial\n",
    "degree = 3"
   ]
  },
  {
   "cell_type": "code",
   "execution_count": 617,
   "id": "29d95ce5",
   "metadata": {},
   "outputs": [],
   "source": [
    "# Randomize dataset for training.\n",
    "complete_df =complete_df.sample(frac=1, replace = False, random_state = 1).reset_index(drop = True)"
   ]
  },
  {
   "cell_type": "code",
   "execution_count": 618,
   "id": "38d6f07b",
   "metadata": {},
   "outputs": [],
   "source": [
    "# Get numeric values for each variable\n",
    "x = complete_df[\"Male Smoking Rate\"].values\n",
    "y = complete_df['Life Expectancy (Years)'].values"
   ]
  },
  {
   "cell_type": "code",
   "execution_count": 619,
   "id": "8595b805",
   "metadata": {},
   "outputs": [],
   "source": [
    "# Define training, validation, and test size\n",
    "TRAIN_SIZE = 0.7\n",
    "VAL_SIZE = 0.15\n",
    "TEST_SIZE = 0.15"
   ]
  },
  {
   "cell_type": "code",
   "execution_count": 620,
   "id": "5e584fc0",
   "metadata": {},
   "outputs": [
    {
     "name": "stdout",
     "output_type": "stream",
     "text": [
      "X_train: (98,), y_train: (98,)\n",
      "X_val: (21,), y_val: (21,)\n"
     ]
    }
   ],
   "source": [
    "# Create data splits\n",
    "X_train, X_val, X_test, y_train, y_val, y_test = train_val_test_split(\n",
    "    X=x, y=y, train_size=TRAIN_SIZE)\n",
    "print (f\"X_train: {X_train.shape}, y_train: {y_train.shape}\")\n",
    "print (f\"X_val: {X_val.shape}, y_val: {y_val.shape}\")\n",
    "# Gprint (f\"X_test: {X_test.shape}, y_test: {y_test.shape}\")"
   ]
  },
  {
   "cell_type": "code",
   "execution_count": 621,
   "id": "e32475c8",
   "metadata": {},
   "outputs": [],
   "source": [
    "# Get standard deviation and mean of the training data\n",
    "y_std = np.std(y_train)\n",
    "y_mean = np.mean(y_train)\n",
    "\n",
    "x_std = np.std(X_train)\n",
    "x_mean = np.mean(X_train)"
   ]
  },
  {
   "cell_type": "code",
   "execution_count": 622,
   "id": "08ad19e3",
   "metadata": {},
   "outputs": [],
   "source": [
    "# Get split X and Y \n",
    "X_train = standardize_data(X_train)\n",
    "X_val = standardize_data(X_val)\n",
    "X_test = standardize_data(X_test)\n",
    "\n",
    "y_train = standardize_data(y_train)\n",
    "y_val = standardize_data(y_val)\n",
    "y_test = standardize_data(y_test)"
   ]
  },
  {
   "cell_type": "code",
   "execution_count": 623,
   "id": "f8c5697f",
   "metadata": {},
   "outputs": [
    {
     "data": {
      "text/plain": [
       "array([0.78092543, 0.3254414 , 0.56308262, 0.39568903])"
      ]
     },
     "execution_count": 623,
     "metadata": {},
     "output_type": "execute_result"
    }
   ],
   "source": [
    "# Initialize Weights\n",
    "# Generate random weights for coefficients \n",
    "W_o = np.array([np.random.random() for co in range(degree+1)])\n",
    "W_o"
   ]
  },
  {
   "cell_type": "code",
   "execution_count": 624,
   "id": "a79fdaaf",
   "metadata": {},
   "outputs": [
    {
     "data": {
      "text/plain": [
       "(array([ 0.33620763,  0.46116864, -0.39027773,  0.03360108]),\n",
       " array([ 0.30345753,  0.34282269,  0.43237969,  0.4794419 , -0.36714442,\n",
       "        -0.62618725, -0.81518222,  0.42977666, -0.12419728,  0.47931403,\n",
       "         0.47960699, -0.79063652,  0.06577757, -0.7185856 , -0.80697083,\n",
       "        -0.45109293, -0.84832339, -0.63372808,  0.04808267,  0.47881853,\n",
       "         0.32867984,  0.09577778, -0.81518222, -0.89041733,  0.3354645 ,\n",
       "        -0.63372808,  0.41055214,  0.47236348,  0.44326605,  0.18581706,\n",
       "        -0.14044643, -0.89041733, -0.73439203, -0.57420551,  0.47881853,\n",
       "         0.08307057, -0.85668274,  0.31283377,  0.07013842, -0.89892543,\n",
       "         0.45583377, -0.67186502, -0.70289579,  0.40177603,  0.42845026,\n",
       "        -0.55235665, -0.55961109, -0.77441995,  0.24511901,  0.12335638,\n",
       "        -0.29132795,  0.37182567,  0.19661016, -0.69509454, -0.42661407,\n",
       "         0.47732671, -0.09240929,  0.47981145,  0.45656503,  0.43491616,\n",
       "        -0.29749539,  0.47572126,  0.42490908,  0.31283377,  0.43615936,\n",
       "         0.45175771,  0.44261566,  0.18581706, -0.20206838,  0.42490908,\n",
       "        -0.64129773, -0.50237084,  0.47557745,  0.0613916 ,  0.24780925,\n",
       "        -0.78251353, -0.38016574,  0.27900983,  0.45680156,  0.47610941,\n",
       "        -0.46521026, -0.86507178,  0.27522194,  0.343801  , -0.64889621,\n",
       "         0.43237969, -0.88193904, -0.60373731, -0.02305393,  0.32013578,\n",
       "         0.45179285,  0.43622584,  0.43622584,  0.42490908, -0.00266694,\n",
       "         0.47981518, -0.25489439,  0.4645963 ]))"
      ]
     },
     "execution_count": 624,
     "metadata": {},
     "output_type": "execute_result"
    }
   ],
   "source": [
    "# Perform Stochastic Gradient Descent and get output y and weights\n",
    "W_f, pred_y_hat = StochGrad(x=X_train, y=y_train, W=W_o, learning_rate = 0.1, epoch= 100)\n",
    "W_f, pred_y_hat"
   ]
  },
  {
   "cell_type": "code",
   "execution_count": 625,
   "id": "b734e606",
   "metadata": {},
   "outputs": [],
   "source": [
    "# Calculate the ouput test set\n",
    "test_y_hat = calc_y(W_f,X_test)"
   ]
  },
  {
   "cell_type": "code",
   "execution_count": 626,
   "id": "b7fead67",
   "metadata": {},
   "outputs": [
    {
     "data": {
      "text/plain": [
       "<matplotlib.collections.PathCollection at 0x26bdba9d580>"
      ]
     },
     "execution_count": 626,
     "metadata": {},
     "output_type": "execute_result"
    },
    {
     "data": {
      "image/png": "[encoded data removed]",
      "text/plain": [
       "<Figure size 432x288 with 1 Axes>"
      ]
     },
     "metadata": {
      "needs_background": "light"
     },
     "output_type": "display_data"
    }
   ],
   "source": [
    "# Let's see how well it fitted the data\n",
    "plt.scatter(X_train, pred_y_hat)"
   ]
  },
  {
   "cell_type": "code",
   "execution_count": 627,
   "id": "972c0ac9",
   "metadata": {},
   "outputs": [
    {
     "data": {
      "text/plain": [
       "<matplotlib.collections.PathCollection at 0x26bdbb0a490>"
      ]
     },
     "execution_count": 627,
     "metadata": {},
     "output_type": "execute_result"
    },
    {
     "data": {
      "image/png": "[encoded data removed]",
      "text/plain": [
       "<Figure size 432x288 with 1 Axes>"
      ]
     },
     "metadata": {
      "needs_background": "light"
     },
     "output_type": "display_data"
    }
   ],
   "source": [
    "# And how well it fits the test data as well\n",
    "plt.scatter(X_test, test_y_hat)"
   ]
  },
  {
   "cell_type": "code",
   "execution_count": 628,
   "id": "fb486d23",
   "metadata": {},
   "outputs": [
    {
     "name": "stdout",
     "output_type": "stream",
     "text": [
      "Training Error: 0.645, Test Error: 0.674, Training R²: 0.355, Test R²: 0.326\n"
     ]
    }
   ],
   "source": [
    "# Measure the MSE error and how well it fits the data.\n",
    "train_err = MeanSquaredEr(pred_y_hat, y_train)\n",
    "test_err = MeanSquaredEr(test_y_hat, y_test)\n",
    "train_r2 = r2_score(y_train, pred_y_hat)\n",
    "test_r2 = r2_score(y_test, test_y_hat)\n",
    "print(f\"Training Error: {round(train_err,3)}, Test Error: {round(test_err,3)}, Training R\\u00b2: {round(train_r2,3)}, Test R\\u00b2: {round(test_r2,3)}\")"
   ]
  },
  {
   "cell_type": "code",
   "execution_count": 629,
   "id": "b460209b",
   "metadata": {},
   "outputs": [],
   "source": [
    "# Unscale the the weights\n",
    "W_unscaled = W_f[-(degree):] * (y_std/x_std)\n",
    "W_unscaled = np.insert(W_unscaled,0,W_f[0] * y_std + y_mean - np.sum(W_unscaled*x_mean))"
   ]
  },
  {
   "cell_type": "code",
   "execution_count": 630,
   "id": "6165f421",
   "metadata": {},
   "outputs": [
    {
     "name": "stdout",
     "output_type": "stream",
     "text": [
      "0.01611248160053063x³ -0.18714702119605783x² + 0.22114082188246678x + 74.30525016754287\n"
     ]
    }
   ],
   "source": [
    "print(f\"{W_unscaled[-1]}x\\u00b3 {W_unscaled[-2]}x\\u00b2 + {W_unscaled[-3]}x + {W_unscaled[0]}\")"
   ]
  },
  {
   "cell_type": "code",
   "execution_count": 539,
   "id": "b4858ef3",
   "metadata": {},
   "outputs": [],
   "source": [
    "# After training this model and determining the equation that describes the behaivor of this graph,\n",
    "# let's talk about the relationships displayed by our plot. \n",
    "\n",
    "# Interestingly enough, in the first portion of the graph it can be seen that the life expectancy exponentially increases\n",
    "# amongst low smoking rates. This can be interpreted in multiple ways, but the peak of this graph is \n",
    "# right around 80 years of age and a male smoking rate of 20%. \n",
    "\n",
    "# Beyond this point we see an exponential drop in life expectancy as we get closer to the max male smoking rate of 70%.\n",
    "# Here we see around a 25% reduction in life expectancy. \n",
    "\n",
    "# Based on these behaivors I'd be willing to make a few assumptions.\n",
    "# The first is that developed countries probably make up a majority of these with a smoking rate of less than 20%.\n",
    "# This would essentially mean that under this smoking rate of 20% that these countries see no difference in life expectancy \n",
    "# than they would otherwise expect given the state of public health, availability of healthcare, and other factors.\n",
    "# The average life expectancy of developed countries is around 80% and this would more than likely explain this peak.\n",
    "# After this you see the precipitous drop you would expect with increased smoking rates.\n",
    "\n",
    "# Having all this in mind there are a few things to dimensionalize about this analysis. The major confounding factors that\n",
    "# weren't standardized for this analysis are quality of healthcare, the effect of crime on the life expectancy of the country, \n",
    "# and how developed the country itself is. "
   ]
  }
 ],
 "metadata": {
  "kernelspec": {
   "display_name": "Python 3",
   "language": "python",
   "name": "python3"
  },
  "language_info": {
   "codemirror_mode": {
    "name": "ipython",
    "version": 3
   },
   "file_extension": ".py",
   "mimetype": "text/x-python",
   "name": "python",
   "nbconvert_exporter": "python",
   "pygments_lexer": "ipython3",
   "version": "3.9.12"
  }
 },
 "nbformat": 4,
 "nbformat_minor": 5
}
